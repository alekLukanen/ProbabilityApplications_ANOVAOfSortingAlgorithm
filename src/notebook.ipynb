{
 "cells": [
  {
   "cell_type": "markdown",
   "metadata": {},
   "source": [
    "## Testing Different Distributions"
   ]
  },
  {
   "cell_type": "code",
   "execution_count": 1,
   "metadata": {},
   "outputs": [],
   "source": [
    "import matplotlib.pyplot as plt\n",
    "import random\n",
    "import algorithms \n",
    "import pandas as pd"
   ]
  },
  {
   "cell_type": "markdown",
   "metadata": {},
   "source": [
    "## Generate the Data"
   ]
  },
  {
   "cell_type": "code",
   "execution_count": null,
   "metadata": {
    "scrolled": true
   },
   "outputs": [],
   "source": [
    "list_sizes = [50_000,75_000,100_000]\n",
    "runs = 35\n",
    "data = algorithms.time_selection_sort(list_sizes, number_of_tries=runs, module='algorithms')\n",
    "data.to_csv('data.csv', index=False)"
   ]
  },
  {
   "cell_type": "markdown",
   "metadata": {},
   "source": [
    "## Working with the Data\n",
    "Read from the csv file to get the most current data."
   ]
  },
  {
   "cell_type": "code",
   "execution_count": 8,
   "metadata": {},
   "outputs": [],
   "source": [
    "data = pd.read_csv('data.csv')\n",
    "data.head(5)\n",
    "randomized_30000 = data[(data['size']==30_000) & (data['original_sorting']=='randomized')]"
   ]
  },
  {
   "cell_type": "code",
   "execution_count": 9,
   "metadata": {},
   "outputs": [
    {
     "data": {
      "text/plain": [
       "(array([14.,  8.,  7.,  5.,  1.]),\n",
       " array([0.649696 , 0.6559268, 0.6621576, 0.6683884, 0.6746192, 0.68085  ]),\n",
       " <a list of 5 Patch objects>)"
      ]
     },
     "execution_count": 9,
     "metadata": {},
     "output_type": "execute_result"
    },
    {
     "data": {
      "image/png": "[encoded data removed]",
      "text/plain": [
       "<Figure size 432x288 with 1 Axes>"
      ]
     },
     "metadata": {
      "needs_background": "light"
     },
     "output_type": "display_data"
    }
   ],
   "source": [
    "plt.hist(x=randomized_30000['time'], bins=5)"
   ]
  },
  {
   "cell_type": "code",
   "execution_count": null,
   "metadata": {},
   "outputs": [],
   "source": []
  },
  {
   "cell_type": "code",
   "execution_count": 11,
   "metadata": {},
   "outputs": [
    {
     "data": {
      "text/plain": [
       "(array([4.000e+01, 2.500e+02, 5.680e+02, 8.690e+02, 1.096e+03, 1.181e+03,\n",
       "        1.201e+03, 1.116e+03, 9.090e+02, 7.320e+02, 6.010e+02, 4.360e+02,\n",
       "        3.050e+02, 2.270e+02, 1.660e+02, 9.600e+01, 7.600e+01, 4.500e+01,\n",
       "        4.000e+01, 1.300e+01, 9.000e+00, 9.000e+00, 4.000e+00, 4.000e+00,\n",
       "        4.000e+00, 1.000e+00, 1.000e+00, 0.000e+00, 0.000e+00, 1.000e+00]),\n",
       " array([  39.23207472,  102.28351267,  165.33495063,  228.38638859,\n",
       "         291.43782655,  354.48926451,  417.54070247,  480.59214043,\n",
       "         543.64357839,  606.69501634,  669.7464543 ,  732.79789226,\n",
       "         795.84933022,  858.90076818,  921.95220614,  985.0036441 ,\n",
       "        1048.05508206, 1111.10652001, 1174.15795797, 1237.20939593,\n",
       "        1300.26083389, 1363.31227185, 1426.36370981, 1489.41514777,\n",
       "        1552.46658572, 1615.51802368, 1678.56946164, 1741.6208996 ,\n",
       "        1804.67233756, 1867.72377552, 1930.77521348]),\n",
       " <a list of 30 Patch objects>)"
      ]
     },
     "execution_count": 11,
     "metadata": {},
     "output_type": "execute_result"
    },
    {
     "data": {
      "image/png": "[encoded data removed]",
      "text/plain": [
       "<Figure size 432x288 with 1 Axes>"
      ]
     },
     "metadata": {
      "needs_background": "light"
     },
     "output_type": "display_data"
    }
   ],
   "source": [
    "mu = 5\n",
    "sigma = 100\n",
    "samples = 10_000\n",
    "data = [random.gammavariate(mu, sigma) for i in range(0,samples)]\n",
    "plt.hist(x=data, bins=30)"
   ]
  }
 ],
 "metadata": {
  "kernelspec": {
   "display_name": "Python 3",
   "language": "python",
   "name": "python3"
  },
  "language_info": {
   "codemirror_mode": {
    "name": "ipython",
    "version": 3
   },
   "file_extension": ".py",
   "mimetype": "text/x-python",
   "name": "python",
   "nbconvert_exporter": "python",
   "pygments_lexer": "ipython3",
   "version": "3.6.7"
  }
 },
 "nbformat": 4,
 "nbformat_minor": 2
}
