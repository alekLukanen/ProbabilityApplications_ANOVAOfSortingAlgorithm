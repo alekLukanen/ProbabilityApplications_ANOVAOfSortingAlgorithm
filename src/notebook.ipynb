{
 "cells": [
  {
   "cell_type": "markdown",
   "metadata": {},
   "source": [
    "## Testing Different Distributions"
   ]
  },
  {
   "cell_type": "code",
   "execution_count": 1,
   "metadata": {},
   "outputs": [],
   "source": [
    "import matplotlib.pyplot as plt\n",
    "import random\n",
    "import algorithms \n",
    "import pandas as pd\n",
    "import statsmodels.api as sm\n",
    "from statsmodels.formula.api import ols"
   ]
  },
  {
   "cell_type": "code",
   "execution_count": 4,
   "metadata": {},
   "outputs": [
    {
     "data": {
      "image/png": "[encoded data removed]",
      "text/plain": [
       "<Figure size 432x288 with 1 Axes>"
      ]
     },
     "metadata": {
      "needs_background": "light"
     },
     "output_type": "display_data"
    }
   ],
   "source": [
    "length = 100\n",
    "uniform_walk = algorithms.create_uniform_random_walk(length)\n",
    "\n",
    "plt.plot([i for i in range(0,length)], uniform_walk)\n",
    "plt.grid()\n",
    "plt.show()"
   ]
  },
  {
   "cell_type": "markdown",
   "metadata": {},
   "source": [
    "## Working with the Data\n",
    "Read from the csv file to get the most current data."
   ]
  },
  {
   "cell_type": "code",
   "execution_count": 3,
   "metadata": {
    "scrolled": true
   },
   "outputs": [
    {
     "name": "stdout",
     "output_type": "stream",
     "text": [
      "[1000000 2000000 3000000]\n"
     ]
    },
    {
     "data": {
      "text/plain": [
       "(array([32.,  0.,  0.,  0.,  0.,  0.,  0.,  0.,  0.,  3.]),\n",
       " array([0.28125  , 0.2828125, 0.284375 , 0.2859375, 0.2875   , 0.2890625,\n",
       "        0.290625 , 0.2921875, 0.29375  , 0.2953125, 0.296875 ]),\n",
       " <a list of 10 Patch objects>)"
      ]
     },
     "execution_count": 3,
     "metadata": {},
     "output_type": "execute_result"
    },
    {
     "data": {
      "image/png": "[encoded data removed]",
      "text/plain": [
       "<Figure size 432x288 with 1 Axes>"
      ]
     },
     "metadata": {
      "needs_background": "light"
     },
     "output_type": "display_data"
    }
   ],
   "source": [
    "data = pd.read_csv('data.csv')\n",
    "print(data['size'].unique())\n",
    "data.head(5)\n",
    "randomized_300000 = data[(data['size']==1_000_000) & (data['original_sorting']=='normal(0,1)')]\n",
    "plt.hist(x=randomized_300000['time'], bins=10)"
   ]
  },
  {
   "cell_type": "markdown",
   "metadata": {},
   "source": [
    "## Analysis of Variance"
   ]
  },
  {
   "cell_type": "code",
   "execution_count": 9,
   "metadata": {},
   "outputs": [
    {
     "name": "stdout",
     "output_type": "stream",
     "text": [
      "                            OLS Regression Results                            \n",
      "==============================================================================\n",
      "Dep. Variable:                   time   R-squared:                       0.839\n",
      "Model:                            OLS   Adj. R-squared:                  0.838\n",
      "Method:                 Least Squares   F-statistic:                     451.4\n",
      "Date:                Mon, 15 Apr 2019   Prob (F-statistic):          4.30e-202\n",
      "Time:                        15:40:28   Log-Likelihood:                 166.92\n",
      "No. Observations:                 525   AIC:                            -319.8\n",
      "Df Residuals:                     518   BIC:                            -290.0\n",
      "Df Model:                           6                                         \n",
      "Covariance Type:            nonrobust                                         \n",
      "=======================================================================================================\n",
      "                                          coef    std err          t      P>|t|      [0.025      0.975]\n",
      "-------------------------------------------------------------------------------------------------------\n",
      "Intercept                               0.4481      0.020     21.893      0.000       0.408       0.488\n",
      "C(original_sorting)[T.normal(0,1)]      0.0010      0.024      0.043      0.966      -0.047       0.049\n",
      "C(original_sorting)[T.reversed]        -0.6874      0.024    -28.097      0.000      -0.735      -0.639\n",
      "C(original_sorting)[T.sorted]          -0.6863      0.024    -28.055      0.000      -0.734      -0.638\n",
      "C(original_sorting)[T.uniform(0,1)]    -0.0031      0.024     -0.128      0.898      -0.051       0.045\n",
      "C(size)[T.2000000]                      0.2289      0.019     12.081      0.000       0.192       0.266\n",
      "C(size)[T.3000000]                      0.5406      0.019     28.530      0.000       0.503       0.578\n",
      "==============================================================================\n",
      "Omnibus:                      259.137   Durbin-Watson:                   0.044\n",
      "Prob(Omnibus):                  0.000   Jarque-Bera (JB):               29.535\n",
      "Skew:                          -0.018   Prob(JB):                     3.86e-07\n",
      "Kurtosis:                       1.839   Cond. No.                         6.45\n",
      "==============================================================================\n",
      "\n",
      "Warnings:\n",
      "[1] Standard Errors assume that the covariance matrix of the errors is correctly specified.\n"
     ]
    },
    {
     "data": {
      "text/html": [
       "<div>\n",
       "<style scoped>\n",
       "    .dataframe tbody tr th:only-of-type {\n",
       "        vertical-align: middle;\n",
       "    }\n",
       "\n",
       "    .dataframe tbody tr th {\n",
       "        vertical-align: top;\n",
       "    }\n",
       "\n",
       "    .dataframe thead th {\n",
       "        text-align: right;\n",
       "    }\n",
       "</style>\n",
       "<table border=\"1\" class=\"dataframe\">\n",
       "  <thead>\n",
       "    <tr style=\"text-align: right;\">\n",
       "      <th></th>\n",
       "      <th>sum_sq</th>\n",
       "      <th>df</th>\n",
       "      <th>F</th>\n",
       "      <th>PR(&gt;F)</th>\n",
       "    </tr>\n",
       "  </thead>\n",
       "  <tbody>\n",
       "    <tr>\n",
       "      <th>C(original_sorting)</th>\n",
       "      <td>59.319638</td>\n",
       "      <td>4.0</td>\n",
       "      <td>472.008583</td>\n",
       "      <td>3.667549e-171</td>\n",
       "    </tr>\n",
       "    <tr>\n",
       "      <th>C(size)</th>\n",
       "      <td>25.773903</td>\n",
       "      <td>2.0</td>\n",
       "      <td>410.167830</td>\n",
       "      <td>1.702393e-107</td>\n",
       "    </tr>\n",
       "    <tr>\n",
       "      <th>Residual</th>\n",
       "      <td>16.274901</td>\n",
       "      <td>518.0</td>\n",
       "      <td>NaN</td>\n",
       "      <td>NaN</td>\n",
       "    </tr>\n",
       "  </tbody>\n",
       "</table>\n",
       "</div>"
      ],
      "text/plain": [
       "                        sum_sq     df           F         PR(>F)\n",
       "C(original_sorting)  59.319638    4.0  472.008583  3.667549e-171\n",
       "C(size)              25.773903    2.0  410.167830  1.702393e-107\n",
       "Residual             16.274901  518.0         NaN            NaN"
      ]
     },
     "execution_count": 9,
     "metadata": {},
     "output_type": "execute_result"
    }
   ],
   "source": [
    "sorting_time_lm = ols('time ~ C(original_sorting)+C(size)',\n",
    "                 data=data).fit()\n",
    "print(sorting_time_lm.summary())\n",
    "table = sm.stats.anova_lm(sorting_time_lm, typ=2) # Type 2 ANOVA DataFrame\n",
    "table"
   ]
  },
  {
   "cell_type": "code",
   "execution_count": null,
   "metadata": {},
   "outputs": [],
   "source": []
  },
  {
   "cell_type": "code",
   "execution_count": null,
   "metadata": {},
   "outputs": [],
   "source": []
  },
  {
   "cell_type": "code",
   "execution_count": 11,
   "metadata": {},
   "outputs": [
    {
     "data": {
      "text/plain": [
       "(array([5.800e+02, 1.220e+03, 1.368e+03, 1.344e+03, 1.154e+03, 9.990e+02,\n",
       "        7.540e+02, 6.580e+02, 5.000e+02, 3.630e+02, 2.590e+02, 1.940e+02,\n",
       "        1.530e+02, 1.100e+02, 9.500e+01, 7.400e+01, 5.000e+01, 3.500e+01,\n",
       "        2.500e+01, 2.200e+01, 1.500e+01, 7.000e+00, 6.000e+00, 4.000e+00,\n",
       "        3.000e+00, 1.000e+00, 2.000e+00, 3.000e+00, 0.000e+00, 2.000e+00]),\n",
       " array([7.86743243e-03, 3.90263533e-01, 7.72659633e-01, 1.15505573e+00,\n",
       "        1.53745183e+00, 1.91984793e+00, 2.30224403e+00, 2.68464013e+00,\n",
       "        3.06703623e+00, 3.44943233e+00, 3.83182843e+00, 4.21422453e+00,\n",
       "        4.59662063e+00, 4.97901673e+00, 5.36141284e+00, 5.74380894e+00,\n",
       "        6.12620504e+00, 6.50860114e+00, 6.89099724e+00, 7.27339334e+00,\n",
       "        7.65578944e+00, 8.03818554e+00, 8.42058164e+00, 8.80297774e+00,\n",
       "        9.18537384e+00, 9.56776994e+00, 9.95016604e+00, 1.03325621e+01,\n",
       "        1.07149582e+01, 1.10973543e+01, 1.14797504e+01]),\n",
       " <a list of 30 Patch objects>)"
      ]
     },
     "execution_count": 11,
     "metadata": {},
     "output_type": "execute_result"
    },
    {
     "data": {
      "image/png": "[encoded data removed]",
      "text/plain": [
       "<Figure size 432x288 with 1 Axes>"
      ]
     },
     "metadata": {
      "needs_background": "light"
     },
     "output_type": "display_data"
    }
   ],
   "source": [
    "mu = 2\n",
    "sigma = 1\n",
    "samples = 10_000\n",
    "data = [random.gammavariate(mu, sigma) for i in range(0,samples)]\n",
    "plt.hist(x=data, bins=30)"
   ]
  },
  {
   "cell_type": "code",
   "execution_count": null,
   "metadata": {},
   "outputs": [],
   "source": []
  }
 ],
 "metadata": {
  "kernelspec": {
   "display_name": "Python 3",
   "language": "python",
   "name": "python3"
  },
  "language_info": {
   "codemirror_mode": {
    "name": "ipython",
    "version": 3
   },
   "file_extension": ".py",
   "mimetype": "text/x-python",
   "name": "python",
   "nbconvert_exporter": "python",
   "pygments_lexer": "ipython3",
   "version": "3.6.7"
  }
 },
 "nbformat": 4,
 "nbformat_minor": 2
}
